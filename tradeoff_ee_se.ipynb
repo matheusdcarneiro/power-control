{
 "cells": [
  {
   "cell_type": "code",
   "execution_count": null,
   "id": "6a46cbf0-1ffa-48f4-9c55-c77be04953b7",
   "metadata": {},
   "outputs": [],
   "source": [
    "import numpy as np\n",
    "from matplotlib import pyplot as plt\n",
    "\n",
    "import sys\n",
    "np.set_printoptions(threshold=sys.maxsize)\n",
    "\n",
    "np.random.seed(14)\n",
    "\n",
    "from sim_functions import *\n",
    "from positioning import *\n",
    "from system_parameters import *\n",
    "from gt_power_control import *"
   ]
  },
  {
   "cell_type": "code",
   "execution_count": null,
   "id": "c8fcf118-1b8f-4cf1-be7f-1abe69aaf13d",
   "metadata": {},
   "outputs": [],
   "source": [
    "cov_side = 100\n",
    "num_ch, num_ue, num_ap = 1, 4, 100"
   ]
  },
  {
   "cell_type": "code",
   "execution_count": null,
   "id": "e20a246b-f6f9-4809-abeb-e2f9a84a4950",
   "metadata": {},
   "outputs": [],
   "source": [
    "ue_pos = random_ue_positions(num_ue, cov_side)\n",
    "ap_pos = ap_positions(num_ap, cov_side)\n",
    "dis = distance(ue_pos, ap_pos)\n",
    "\n"
   ]
  }
 ],
 "metadata": {
  "kernelspec": {
   "display_name": "Python 3 (ipykernel)",
   "language": "python",
   "name": "python3"
  },
  "language_info": {
   "codemirror_mode": {
    "name": "ipython",
    "version": 3
   },
   "file_extension": ".py",
   "mimetype": "text/x-python",
   "name": "python",
   "nbconvert_exporter": "python",
   "pygments_lexer": "ipython3",
   "version": "3.12.7"
  }
 },
 "nbformat": 4,
 "nbformat_minor": 5
}
