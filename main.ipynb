{
 "cells": [
  {
   "cell_type": "code",
   "execution_count": 1,
   "id": "6cd83a6f-415b-400c-8f72-fa9d3850818d",
   "metadata": {},
   "outputs": [],
   "source": [
    "import numpy as np\n",
    "from matplotlib import pyplot as plt\n",
    "\n",
    "import sys\n",
    "np.set_printoptions(threshold=sys.maxsize)\n",
    "\n",
    "np.random.seed(14)\n",
    "\n",
    "from sim_functions import *\n",
    "from positioning import *\n",
    "from system_parameters import *\n",
    "from optimum_solution import *\n",
    "from esnp_algorithms import *"
   ]
  },
  {
   "cell_type": "code",
   "execution_count": 2,
   "id": "5bb8fc3d-5b6f-4c6b-b530-0729abb9c537",
   "metadata": {},
   "outputs": [],
   "source": [
    "# System constant parameters\n",
    "\n",
    "num_ue, num_ap, num_ch = 4, 4, 1\n",
    "                    \n",
    "tot_band = 100e6 # [W]\n",
    "env_constant = 10e-4\n",
    "pl_constant = 4 \n",
    "\n",
    "cov_side = 100 # [m]\n",
    "\n",
    "pmin, pmax, step = 0, 30, 1 # [dBm]"
   ]
  },
  {
   "cell_type": "code",
   "execution_count": 3,
   "id": "f1ddc7a9-a203-4660-b881-813cf1c706fc",
   "metadata": {},
   "outputs": [],
   "source": [
    "# Study case dataset\n",
    "\n",
    "ap_pos = ap_positions(num_ap, cov_side)\n",
    "\n",
    "ue_pos = np.array([[22.538 + 20.333j], \n",
    "                   [56.679 + 32.188j], \n",
    "                   [76.551 + 14.688j], \n",
    "                   [26.595 + 70.239j]])\n",
    "\n",
    "dis_matrix = distance(ue_pos, ap_pos)\n",
    "\n",
    "shadowing_matrix = np.array([[5.3434e-2, 2.8731e-1, 1.9691e-2, 7.3013e-1], \n",
    "                             [3.2318, 1.5770, 2.6449e-1, 5.6379], \n",
    "                             [6.1470e-3, 1.1424, 2.6826e-1, 4.5709], \n",
    "                             [1.3485e-1, 4.6690e-1, 7.8250e-1, 1.6742]])\n",
    "\n",
    "# I dunno why rayleigh_matrix has to have shape (num_ch, num_ue, num_ap) but for operation I'm doing, it works.\n",
    "\n",
    "rayleigh_matrix = np.array([[1.248699, 3.248041, 0.772754, 0.708962], \n",
    "                            [0.498887, 0.104890, 0.647280, 0.940906], \n",
    "                            [0.382966, 0.682700, 1.891256, 0.327100], \n",
    "                            [0.065737, 0.649500, 1.981107, 1.259538]]).reshape(((num_ch, num_ue, num_ap)))"
   ]
  },
  {
   "cell_type": "code",
   "execution_count": 4,
   "id": "03ff4b13-63e7-4c3e-8f17-159abb4e8cc1",
   "metadata": {},
   "outputs": [],
   "source": [
    "# Simulation\n",
    "\n",
    "# Channel matrix is constant as distance, shadowing and fast fading matrixes are constant\n",
    "channel_matrix = get_channel(dis_matrix, shadowing_matrix, np.sqrt(rayleigh_matrix))\n",
    "\n",
    "# Set of all vectors of power possible in system\n",
    "power_set = available_power_vec(pmin, pmax, step, num_ue)\n",
    "\n",
    "# Noise power in system is constant\n",
    "n_power = get_noise(tot_band, num_ch)"
   ]
  },
  {
   "cell_type": "code",
   "execution_count": 73,
   "id": "3e89560a",
   "metadata": {},
   "outputs": [
    {
     "name": "stdout",
     "output_type": "stream",
     "text": [
      "maxmin:  -0.2889635802578307\n",
      "[12. 30. 22.  4.]\n",
      "maxsum:  53.85671749976571\n",
      "[ 0.  0.  0. 30.]\n",
      "maxproduct:  52.5002803408903\n",
      "[ 0. 18.  7. 30.]\n"
     ]
    }
   ],
   "source": [
    "# ESNP algorithm\n",
    "\n",
    "sinr_esnp_maxmin = esnp_maxmin(channel_matrix, pmax, pmin, step, 10, 0.5, 1000, n_power)\n",
    "\n",
    "sinr_esnp_maxsum = esnp_maxsum(channel_matrix, pmax, pmin, step, 10, 0.5, 1000, n_power)\n",
    "\n",
    "sinr_esnp_maxprod = esnp_maxproduct(channel_matrix, pmax, pmin, step, 10, 0.5, 1000, n_power)\n",
    "\n",
    "print('maxmin: ', lin2db(np.min(sinr_esnp_maxmin[0])))\n",
    "print(sinr_esnp_maxmin[1])\n",
    "print('maxsum: ', lin2db(np.sum(sinr_esnp_maxsum[0])))\n",
    "print(sinr_esnp_maxsum[1])\n",
    "print('maxproduct: ', lin2db(np.sum(sinr_esnp_maxprod[0])*np.min(sinr_esnp_maxprod[0])))\n",
    "print(sinr_esnp_maxprod[1])"
   ]
  },
  {
   "cell_type": "code",
   "execution_count": 60,
   "id": "841a6ba6",
   "metadata": {},
   "outputs": [],
   "source": [
    "# Optimum values\n",
    "\n",
    "opt_maxmin = 0\n",
    "opt_summax = 0\n",
    "opt_maxprod = 0\n",
    "\n",
    "for vec in range(len(power_set)):\n",
    "\n",
    "    # Update the values in order to maximize each objective function\n",
    "    opt_maxmin = np.max([opt_maxmin, np.min(get_sinr(power_set[vec], channel_matrix, n_power))])\n",
    "    opt_summax = np.max([opt_summax, np.sum(get_sinr(power_set[vec], channel_matrix, n_power))])\n",
    "    opt_maxprod = np.max([opt_maxprod, (np.sum(get_sinr(power_set[vec], channel_matrix, n_power))\n",
    "                                        * np.min(get_sinr(power_set[vec], channel_matrix, n_power)))]) "
   ]
  },
  {
   "cell_type": "code",
   "execution_count": 61,
   "id": "c5fff0ec",
   "metadata": {},
   "outputs": [
    {
     "name": "stdout",
     "output_type": "stream",
     "text": [
      "maxmin:  -0.28882313317110436\n",
      "maxsum:  53.85671749976571\n",
      "maxprod:  52.518605576706754\n"
     ]
    }
   ],
   "source": [
    "print('maxmin: ', lin2db(opt_maxmin))\n",
    "print('maxsum: ', lin2db(opt_summax))\n",
    "print('maxprod: ', lin2db(opt_maxprod))"
   ]
  }
 ],
 "metadata": {
  "kernelspec": {
   "display_name": "Python 3 (ipykernel)",
   "language": "python",
   "name": "python3"
  },
  "language_info": {
   "codemirror_mode": {
    "name": "ipython",
    "version": 3
   },
   "file_extension": ".py",
   "mimetype": "text/x-python",
   "name": "python",
   "nbconvert_exporter": "python",
   "pygments_lexer": "ipython3",
   "version": "3.12.7"
  }
 },
 "nbformat": 4,
 "nbformat_minor": 5
}
